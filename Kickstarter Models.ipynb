{
 "cells": [
  {
   "cell_type": "code",
   "execution_count": 2,
   "metadata": {},
   "outputs": [],
   "source": [
    "import pandas as pd"
   ]
  },
  {
   "cell_type": "markdown",
   "metadata": {},
   "source": [
    "## Task 1: Classification Model - Predicting the Success or Failure of a Campaign"
   ]
  },
  {
   "cell_type": "markdown",
   "metadata": {},
   "source": [
    "### Part 1: Data Preprocessing"
   ]
  },
  {
   "cell_type": "code",
   "execution_count": 4,
   "metadata": {},
   "outputs": [],
   "source": [
    "#Import data\n",
    "ks=pd.read_excel(\"C:/Users/rprat/OneDrive/Desktop/MMA Documents/INSY 662 - Data Mining/Kickstarter.xlsx\")"
   ]
  },
  {
   "cell_type": "code",
   "execution_count": 5,
   "metadata": {},
   "outputs": [
    {
     "data": {
      "text/html": [
       "<div>\n",
       "<style scoped>\n",
       "    .dataframe tbody tr th:only-of-type {\n",
       "        vertical-align: middle;\n",
       "    }\n",
       "\n",
       "    .dataframe tbody tr th {\n",
       "        vertical-align: top;\n",
       "    }\n",
       "\n",
       "    .dataframe thead th {\n",
       "        text-align: right;\n",
       "    }\n",
       "</style>\n",
       "<table border=\"1\" class=\"dataframe\">\n",
       "  <thead>\n",
       "    <tr style=\"text-align: right;\">\n",
       "      <th></th>\n",
       "      <th>id</th>\n",
       "      <th>name</th>\n",
       "      <th>goal</th>\n",
       "      <th>pledged</th>\n",
       "      <th>state</th>\n",
       "      <th>disable_communication</th>\n",
       "      <th>country</th>\n",
       "      <th>currency</th>\n",
       "      <th>deadline</th>\n",
       "      <th>state_changed_at</th>\n",
       "      <th>...</th>\n",
       "      <th>created_at_day</th>\n",
       "      <th>created_at_yr</th>\n",
       "      <th>created_at_hr</th>\n",
       "      <th>launched_at_month</th>\n",
       "      <th>launched_at_day</th>\n",
       "      <th>launched_at_yr</th>\n",
       "      <th>launched_at_hr</th>\n",
       "      <th>create_to_launch_days</th>\n",
       "      <th>launch_to_deadline_days</th>\n",
       "      <th>launch_to_state_change_days</th>\n",
       "    </tr>\n",
       "  </thead>\n",
       "  <tbody>\n",
       "    <tr>\n",
       "      <th>0</th>\n",
       "      <td>1538064060</td>\n",
       "      <td>MAGIC PIXEL - Bluetooth full color LED display</td>\n",
       "      <td>15000.0</td>\n",
       "      <td>5933.0</td>\n",
       "      <td>failed</td>\n",
       "      <td>False</td>\n",
       "      <td>GB</td>\n",
       "      <td>GBP</td>\n",
       "      <td>2016-03-19 09:31:29</td>\n",
       "      <td>2016-03-19 09:31:32</td>\n",
       "      <td>...</td>\n",
       "      <td>18</td>\n",
       "      <td>2015</td>\n",
       "      <td>3</td>\n",
       "      <td>2</td>\n",
       "      <td>18</td>\n",
       "      <td>2016</td>\n",
       "      <td>9</td>\n",
       "      <td>62</td>\n",
       "      <td>30</td>\n",
       "      <td>30</td>\n",
       "    </tr>\n",
       "    <tr>\n",
       "      <th>1</th>\n",
       "      <td>556771080</td>\n",
       "      <td>SmartPi - Turn your Raspberry Pi into a SmartM...</td>\n",
       "      <td>9000.0</td>\n",
       "      <td>16552.0</td>\n",
       "      <td>successful</td>\n",
       "      <td>False</td>\n",
       "      <td>DE</td>\n",
       "      <td>EUR</td>\n",
       "      <td>2016-04-03 08:05:09</td>\n",
       "      <td>2016-04-03 08:05:10</td>\n",
       "      <td>...</td>\n",
       "      <td>8</td>\n",
       "      <td>2016</td>\n",
       "      <td>9</td>\n",
       "      <td>2</td>\n",
       "      <td>18</td>\n",
       "      <td>2016</td>\n",
       "      <td>8</td>\n",
       "      <td>9</td>\n",
       "      <td>45</td>\n",
       "      <td>45</td>\n",
       "    </tr>\n",
       "    <tr>\n",
       "      <th>2</th>\n",
       "      <td>839314928</td>\n",
       "      <td>PlantSitter - The World's Smartest Plant Monit...</td>\n",
       "      <td>60000.0</td>\n",
       "      <td>43234.0</td>\n",
       "      <td>canceled</td>\n",
       "      <td>False</td>\n",
       "      <td>US</td>\n",
       "      <td>USD</td>\n",
       "      <td>2016-03-29 08:01:08</td>\n",
       "      <td>2016-03-28 09:46:41</td>\n",
       "      <td>...</td>\n",
       "      <td>31</td>\n",
       "      <td>2016</td>\n",
       "      <td>5</td>\n",
       "      <td>2</td>\n",
       "      <td>18</td>\n",
       "      <td>2016</td>\n",
       "      <td>8</td>\n",
       "      <td>18</td>\n",
       "      <td>40</td>\n",
       "      <td>39</td>\n",
       "    </tr>\n",
       "    <tr>\n",
       "      <th>3</th>\n",
       "      <td>681077916</td>\n",
       "      <td>Digital Video LUT Box for Colorblindness Corre...</td>\n",
       "      <td>125000.0</td>\n",
       "      <td>1262.0</td>\n",
       "      <td>canceled</td>\n",
       "      <td>False</td>\n",
       "      <td>US</td>\n",
       "      <td>USD</td>\n",
       "      <td>2016-03-19 07:48:02</td>\n",
       "      <td>2016-02-23 09:30:28</td>\n",
       "      <td>...</td>\n",
       "      <td>28</td>\n",
       "      <td>2016</td>\n",
       "      <td>11</td>\n",
       "      <td>2</td>\n",
       "      <td>18</td>\n",
       "      <td>2016</td>\n",
       "      <td>7</td>\n",
       "      <td>20</td>\n",
       "      <td>30</td>\n",
       "      <td>5</td>\n",
       "    </tr>\n",
       "    <tr>\n",
       "      <th>4</th>\n",
       "      <td>1315415013</td>\n",
       "      <td>help send Object Collection to Norway!</td>\n",
       "      <td>2000.0</td>\n",
       "      <td>2300.0</td>\n",
       "      <td>successful</td>\n",
       "      <td>False</td>\n",
       "      <td>US</td>\n",
       "      <td>USD</td>\n",
       "      <td>2016-03-03 17:00:00</td>\n",
       "      <td>2016-03-03 17:00:00</td>\n",
       "      <td>...</td>\n",
       "      <td>16</td>\n",
       "      <td>2016</td>\n",
       "      <td>10</td>\n",
       "      <td>2</td>\n",
       "      <td>18</td>\n",
       "      <td>2016</td>\n",
       "      <td>7</td>\n",
       "      <td>1</td>\n",
       "      <td>14</td>\n",
       "      <td>14</td>\n",
       "    </tr>\n",
       "  </tbody>\n",
       "</table>\n",
       "<p>5 rows × 45 columns</p>\n",
       "</div>"
      ],
      "text/plain": [
       "           id                                               name      goal  \\\n",
       "0  1538064060     MAGIC PIXEL - Bluetooth full color LED display   15000.0   \n",
       "1   556771080  SmartPi - Turn your Raspberry Pi into a SmartM...    9000.0   \n",
       "2   839314928  PlantSitter - The World's Smartest Plant Monit...   60000.0   \n",
       "3   681077916  Digital Video LUT Box for Colorblindness Corre...  125000.0   \n",
       "4  1315415013             help send Object Collection to Norway!    2000.0   \n",
       "\n",
       "   pledged       state  disable_communication country currency  \\\n",
       "0   5933.0      failed                  False      GB      GBP   \n",
       "1  16552.0  successful                  False      DE      EUR   \n",
       "2  43234.0    canceled                  False      US      USD   \n",
       "3   1262.0    canceled                  False      US      USD   \n",
       "4   2300.0  successful                  False      US      USD   \n",
       "\n",
       "             deadline    state_changed_at  ... created_at_day created_at_yr  \\\n",
       "0 2016-03-19 09:31:29 2016-03-19 09:31:32  ...             18          2015   \n",
       "1 2016-04-03 08:05:09 2016-04-03 08:05:10  ...              8          2016   \n",
       "2 2016-03-29 08:01:08 2016-03-28 09:46:41  ...             31          2016   \n",
       "3 2016-03-19 07:48:02 2016-02-23 09:30:28  ...             28          2016   \n",
       "4 2016-03-03 17:00:00 2016-03-03 17:00:00  ...             16          2016   \n",
       "\n",
       "   created_at_hr  launched_at_month  launched_at_day  launched_at_yr  \\\n",
       "0              3                  2               18            2016   \n",
       "1              9                  2               18            2016   \n",
       "2              5                  2               18            2016   \n",
       "3             11                  2               18            2016   \n",
       "4             10                  2               18            2016   \n",
       "\n",
       "  launched_at_hr  create_to_launch_days  launch_to_deadline_days  \\\n",
       "0              9                     62                       30   \n",
       "1              8                      9                       45   \n",
       "2              8                     18                       40   \n",
       "3              7                     20                       30   \n",
       "4              7                      1                       14   \n",
       "\n",
       "   launch_to_state_change_days  \n",
       "0                           30  \n",
       "1                           45  \n",
       "2                           39  \n",
       "3                            5  \n",
       "4                           14  \n",
       "\n",
       "[5 rows x 45 columns]"
      ]
     },
     "execution_count": 5,
     "metadata": {},
     "output_type": "execute_result"
    }
   ],
   "source": [
    "ks.head()"
   ]
  },
  {
   "cell_type": "code",
   "execution_count": 6,
   "metadata": {},
   "outputs": [],
   "source": [
    "#Setting up the data\n",
    "#We only want to classify a project as \"successful\" or \"failed\"\n",
    "ks=ks[ks.state != \"canceled\"]\n",
    "ks=ks[ks.state!=\"suspended\"]"
   ]
  },
  {
   "cell_type": "code",
   "execution_count": 7,
   "metadata": {},
   "outputs": [],
   "source": [
    "#Replace blanks in category column\n",
    "ks[\"category\"]=ks[\"category\"].fillna(\"Other\")"
   ]
  },
  {
   "cell_type": "code",
   "execution_count": 8,
   "metadata": {},
   "outputs": [],
   "source": [
    "#Reset indexing\n",
    "ks=ks.reset_index(drop=True)"
   ]
  },
  {
   "cell_type": "code",
   "execution_count": 9,
   "metadata": {},
   "outputs": [],
   "source": [
    "#Drop data that we are confident is irrelevant\n",
    "#This includes data captured after the launch & data that is irrelevant to project details\n",
    "ks=ks.drop([\"id\",\"name\", \"pledged\",\"currency\",\"deadline\",\"state_changed_at\",\"created_at\",\n",
    "           \"launched_at\", \"static_usd_rate\",\"name_len\", \"name_len_clean\",\"blurb_len\",\n",
    "           \"blurb_len_clean\",\"state_changed_at_weekday\",\"created_at_weekday\",\"deadline_day\",\n",
    "           \"deadline_hr\",\"state_changed_at_month\",\"state_changed_at_day\", \"state_changed_at_yr\", \n",
    "           \"state_changed_at_hr\", \"created_at_day\", \"created_at_hr\",\"launched_at_day\", \"launched_at_hr\", \n",
    "           \"launch_to_state_change_days\"], axis=1)"
   ]
  },
  {
   "cell_type": "code",
   "execution_count": 10,
   "metadata": {},
   "outputs": [],
   "source": [
    "#Data Pre-processing\n",
    "x=pd.get_dummies(ks.drop([\"state\"],axis=1),drop_first=True)\n",
    "y=ks[\"state\"]"
   ]
  },
  {
   "cell_type": "code",
   "execution_count": 11,
   "metadata": {},
   "outputs": [
    {
     "data": {
      "text/plain": [
       "False"
      ]
     },
     "execution_count": 11,
     "metadata": {},
     "output_type": "execute_result"
    }
   ],
   "source": [
    "#Double check for any null values\n",
    "x.isnull().values.any()"
   ]
  },
  {
   "cell_type": "code",
   "execution_count": 12,
   "metadata": {},
   "outputs": [],
   "source": [
    "#Standardize with Robust Scaler\n",
    "from sklearn.preprocessing import RobustScaler\n",
    "rb = RobustScaler()\n",
    "x_rb = rb.fit_transform(x)\n",
    "x_rb=pd.DataFrame(x_rb, columns=x.columns)"
   ]
  },
  {
   "cell_type": "markdown",
   "metadata": {},
   "source": [
    "### Part 2: PCA Feature Selection"
   ]
  },
  {
   "cell_type": "code",
   "execution_count": 14,
   "metadata": {},
   "outputs": [],
   "source": [
    "#Feature selection with PCA\n",
    "from sklearn.decomposition import PCA\n",
    "pca = PCA(n_components=52)\n",
    "pca.fit(x_rb)\n",
    "variance=pca.explained_variance_ratio_\n",
    "\n",
    "variance=list(variance)\n",
    "total=0\n",
    "countr=0\n",
    "for i in variance: #select predictors that capture 95% of the variance\n",
    "    if total<0.95:\n",
    "        total+=i\n",
    "        countr+=1\n",
    "#The number of predictors is 2\n",
    "\n",
    "pca = PCA(n_components=countr)\n",
    "pca.fit(x_rb)\n",
    "x_rb_pca = pca.transform(x_rb)"
   ]
  },
  {
   "cell_type": "markdown",
   "metadata": {},
   "source": [
    "### Part 3: Building A Classification Model with KNN "
   ]
  },
  {
   "cell_type": "code",
   "execution_count": 15,
   "metadata": {},
   "outputs": [],
   "source": [
    "#Train and test sets\n",
    "from sklearn.model_selection import train_test_split\n",
    "xtrain,xtest,ytrain, ytest=train_test_split(x_rb_pca, y, test_size = 0.3, random_state = 0)"
   ]
  },
  {
   "cell_type": "code",
   "execution_count": 16,
   "metadata": {},
   "outputs": [
    {
     "data": {
      "text/plain": [
       "33"
      ]
     },
     "execution_count": 16,
     "metadata": {},
     "output_type": "execute_result"
    }
   ],
   "source": [
    "#Find the optimal K\n",
    "from sklearn.neighbors import KNeighborsClassifier\n",
    "from sklearn.model_selection import cross_val_score\n",
    "neighbors = []\n",
    "cv_scores = []\n",
    "for i in range (1,40,2):\n",
    "    neighbors.append(i)\n",
    "    knn = KNeighborsClassifier(n_neighbors=i, p=2, weights=\"distance\")\n",
    "    scores = cross_val_score(knn, xtrain, ytrain, cv = 10, scoring = 'accuracy')\n",
    "    cv_scores.append(scores.mean())\n",
    "\n",
    "optimal_k = neighbors[cv_scores.index(max(cv_scores))]\n",
    "optimal_k"
   ]
  },
  {
   "cell_type": "code",
   "execution_count": 17,
   "metadata": {},
   "outputs": [],
   "source": [
    "#Build KNN\n",
    "knn = KNeighborsClassifier(n_neighbors=optimal_k,p=2, weights=\"distance\")\n",
    "model_knn_pca = knn.fit(xtrain,ytrain)\n",
    "y_test_pred = model_knn_pca.predict(xtest)"
   ]
  },
  {
   "cell_type": "code",
   "execution_count": 20,
   "metadata": {},
   "outputs": [
    {
     "name": "stdout",
     "output_type": "stream",
     "text": [
      "The accuracy of this model is 96.18 %\n"
     ]
    }
   ],
   "source": [
    "#Evaluate accuracy\n",
    "from sklearn.metrics import accuracy_score\n",
    "accuracy_knn_pca = accuracy_score(ytest, y_test_pred)\n",
    "print(\"The accuracy of this model is\", round(accuracy_knn_pca*100,2),\"%\")"
   ]
  },
  {
   "cell_type": "markdown",
   "metadata": {},
   "source": [
    "### Part 4: Evaluating the Model with Alternate Dataset "
   ]
  },
  {
   "cell_type": "code",
   "execution_count": 21,
   "metadata": {},
   "outputs": [],
   "source": [
    "#Setting up the data\n",
    "ks_grading_sample=pd.read_excel(\"C:/Users/rprat/OneDrive/Desktop/MMA Documents/INSY 662 - Data Mining/Kickstarter-Grading-Sample.xlsx\")"
   ]
  },
  {
   "cell_type": "code",
   "execution_count": 22,
   "metadata": {},
   "outputs": [],
   "source": [
    "#We only want to classify a project as \"successful\" or \"failed\"\n",
    "ks_grading_sample=ks_grading_sample[ks_grading_sample.state != \"canceled\"]\n",
    "ks_grading_sample=ks_grading_sample[ks_grading_sample.state!=\"suspended\"]"
   ]
  },
  {
   "cell_type": "code",
   "execution_count": 23,
   "metadata": {},
   "outputs": [],
   "source": [
    "#Replace blanks in category column\n",
    "ks_grading_sample[\"category\"]=ks_grading_sample[\"category\"].fillna(\"Other\")"
   ]
  },
  {
   "cell_type": "code",
   "execution_count": 24,
   "metadata": {},
   "outputs": [],
   "source": [
    "#Reset indexing\n",
    "ks_grading_sample=ks_grading_sample.reset_index(drop=True)"
   ]
  },
  {
   "cell_type": "code",
   "execution_count": 25,
   "metadata": {},
   "outputs": [],
   "source": [
    "#Drop data that we are confident is irrelevant\n",
    "#This includes data captured after the launch & data that is irrelevant to project details\n",
    "ks_grading_sample=ks_grading_sample.drop([\"id\",\"name\", \"pledged\",\"currency\",\"deadline\",\"state_changed_at\",\"created_at\",\n",
    "                            \"launched_at\", \"static_usd_rate\",\"name_len\", \"name_len_clean\",\"blurb_len\",\n",
    "                            \"blurb_len_clean\",\"state_changed_at_weekday\",\"created_at_weekday\",\"deadline_day\",\n",
    "                            \"deadline_hr\",\"state_changed_at_month\",\"state_changed_at_day\", \"state_changed_at_yr\", \n",
    "                            \"state_changed_at_hr\", \"created_at_day\", \"created_at_hr\",\"launched_at_day\", \"launched_at_hr\", \n",
    "                            \"launch_to_state_change_days\"], axis=1)"
   ]
  },
  {
   "cell_type": "code",
   "execution_count": 26,
   "metadata": {},
   "outputs": [],
   "source": [
    "#Data Pre-processing\n",
    "x_grading_sample=pd.get_dummies(ks_grading_sample.drop([\"state\"],axis=1),drop_first=True)\n",
    "y_grading_sample=ks_grading_sample[\"state\"]"
   ]
  },
  {
   "cell_type": "code",
   "execution_count": 27,
   "metadata": {},
   "outputs": [
    {
     "data": {
      "text/plain": [
       "False"
      ]
     },
     "execution_count": 27,
     "metadata": {},
     "output_type": "execute_result"
    }
   ],
   "source": [
    "#Double check for any null values\n",
    "x_grading_sample.isnull().values.any()"
   ]
  },
  {
   "cell_type": "code",
   "execution_count": 29,
   "metadata": {},
   "outputs": [
    {
     "name": "stdout",
     "output_type": "stream",
     "text": [
      "The accuracy of this model on test data is 75.03 %\n"
     ]
    }
   ],
   "source": [
    "#Make Predictions\n",
    "pca.fit(x_grading_sample)\n",
    "x_grading_sample_pca = pca.transform(x_grading_sample)\n",
    "\n",
    "ytestpred_grading_sample = model_knn_pca.predict(x_grading_sample_pca)\n",
    "accuracy_knn_pca = accuracy_score(y_grading_sample, ytestpred_grading_sample)\n",
    "print(\"The accuracy of this model on test data is\", round(accuracy_knn_pca*100,2),\"%\")"
   ]
  },
  {
   "cell_type": "markdown",
   "metadata": {},
   "source": [
    "## Task 2: Clustering Model - Determining How Long Should A Campaign Last According to its Fundraising Goal"
   ]
  },
  {
   "cell_type": "markdown",
   "metadata": {},
   "source": [
    "### Part 1: Data Preprocessing "
   ]
  },
  {
   "cell_type": "code",
   "execution_count": 30,
   "metadata": {},
   "outputs": [],
   "source": [
    "#Import Data\n",
    "ks=pd.read_excel(\"C:/Users/rprat/OneDrive/Desktop/MMA Documents/INSY 662 - Data Mining/Kickstarter.xlsx\")\n",
    "ks=ks[ks.state != \"canceled\"]\n",
    "ks=ks[ks.state!=\"suspended\"]\n",
    "ks=ks[ks.state!=\"failed\"]\n",
    "ks=ks.reset_index(drop=True)\n",
    "\n",
    "x=ks[[\"goal\",\"launch_to_deadline_days\"]]"
   ]
  },
  {
   "cell_type": "code",
   "execution_count": 31,
   "metadata": {},
   "outputs": [],
   "source": [
    "#Standardize the data\n",
    "from sklearn.preprocessing import StandardScaler\n",
    "scaler = StandardScaler()\n",
    "x_std = scaler.fit_transform(x)"
   ]
  },
  {
   "cell_type": "markdown",
   "metadata": {},
   "source": [
    "### Part 2: Building the Clustering Model with K-Means Clustering"
   ]
  },
  {
   "cell_type": "code",
   "execution_count": 32,
   "metadata": {},
   "outputs": [
    {
     "name": "stdout",
     "output_type": "stream",
     "text": [
      "2 : 0.5940335358606044\n",
      "3 : 0.5833848358199534\n",
      "4 : 0.602811723784044\n",
      "5 : 0.570192775055583\n",
      "6 : 0.5877499123158522\n",
      "7 : 0.598202191681622\n",
      "8 : 0.6008825771483605\n",
      "9 : 0.5476601896478004\n"
     ]
    }
   ],
   "source": [
    "#Find the optimal K\n",
    "from sklearn.cluster import KMeans\n",
    "from sklearn.metrics import silhouette_score\n",
    "for i in range (2,10):    \n",
    "    kmeans = KMeans(n_clusters=i)\n",
    "    model = kmeans.fit(x_std)\n",
    "    labels = model.labels_\n",
    "    print(i,':',silhouette_score(x_std,labels))"
   ]
  },
  {
   "cell_type": "code",
   "execution_count": 33,
   "metadata": {},
   "outputs": [],
   "source": [
    "#Cluster\n",
    "from sklearn.cluster import KMeans\n",
    "kmeans = KMeans(n_clusters=4)\n",
    "model = kmeans.fit(x_std)\n",
    "classify = model.predict(x_std)"
   ]
  },
  {
   "cell_type": "code",
   "execution_count": 34,
   "metadata": {},
   "outputs": [
    {
     "data": {
      "image/png": "[encoded data removed]",
      "text/plain": [
       "<Figure size 432x288 with 1 Axes>"
      ]
     },
     "metadata": {
      "needs_background": "light"
     },
     "output_type": "display_data"
    }
   ],
   "source": [
    "#Visualize\n",
    "from matplotlib import pyplot\n",
    "plot=pyplot.scatter(ks['goal'], ks['launch_to_deadline_days'],  c=model.labels_, cmap='rainbow')"
   ]
  },
  {
   "cell_type": "code",
   "execution_count": 35,
   "metadata": {},
   "outputs": [
    {
     "data": {
      "text/plain": [
       "0.5476601896478004"
      ]
     },
     "execution_count": 35,
     "metadata": {},
     "output_type": "execute_result"
    }
   ],
   "source": [
    "#Evaluate clustering solution\n",
    "silhouette_score(x_std, labels)"
   ]
  },
  {
   "cell_type": "markdown",
   "metadata": {},
   "source": [
    "Silhouette scores range between 1 and -1. The closer the score is to, the better it performs."
   ]
  },
  {
   "cell_type": "markdown",
   "metadata": {},
   "source": [
    "### Part 3: Inferring Insights "
   ]
  },
  {
   "cell_type": "code",
   "execution_count": 36,
   "metadata": {},
   "outputs": [
    {
     "data": {
      "text/plain": [
       "60"
      ]
     },
     "execution_count": 36,
     "metadata": {},
     "output_type": "execute_result"
    }
   ],
   "source": [
    "#Defining Cluster sizes\n",
    "cluster_map = pd.DataFrame()\n",
    "cluster_map['data_index'] = ks.index.values\n",
    "cluster_map['cluster'] = model.labels_\n",
    "cluster_map\n",
    "\n",
    "cluster0=cluster_map[cluster_map.cluster == 0]\n",
    "cluster1=cluster_map[cluster_map.cluster == 1]\n",
    "cluster2=cluster_map[cluster_map.cluster == 2]\n",
    "cluster3=cluster_map[cluster_map.cluster == 3]\n",
    "\n",
    "#Cluster 0\n",
    "cluster0dataindex=cluster0[\"data_index\"].tolist()\n",
    "cluster0goaldata=[]\n",
    "cluster0ltddata=[]\n",
    "for i in cluster0dataindex:\n",
    "    cluster0goaldata.append(x[\"goal\"].loc[i])\n",
    "for i in cluster0dataindex:\n",
    "    cluster0ltddata.append(x[\"launch_to_deadline_days\"].loc[i])\n",
    "min(cluster0goaldata)\n",
    "min(cluster0ltddata)\n",
    "max(cluster0goaldata)\n",
    "max(cluster0ltddata)\n",
    "\n",
    "#Cluster 1\n",
    "cluster1dataindex=cluster1[\"data_index\"].tolist()\n",
    "cluster1goaldata=[]\n",
    "cluster1ltddata=[]\n",
    "for i in cluster1dataindex:\n",
    "    cluster1goaldata.append(x[\"goal\"].loc[i])\n",
    "for i in cluster1dataindex:\n",
    "    cluster1ltddata.append(x[\"launch_to_deadline_days\"].loc[i])\n",
    "min(cluster1goaldata)\n",
    "min(cluster1ltddata)\n",
    "max(cluster1goaldata)\n",
    "max(cluster1ltddata)\n",
    "\n",
    "#Cluster 2\n",
    "cluster2dataindex=cluster2[\"data_index\"].tolist()\n",
    "cluster2goaldata=[]\n",
    "cluster2ltddata=[]\n",
    "for i in cluster2dataindex:\n",
    "    cluster2goaldata.append(x[\"goal\"].loc[i])\n",
    "for i in cluster2dataindex:\n",
    "    cluster2ltddata.append(x[\"launch_to_deadline_days\"].loc[i])\n",
    "min(cluster2goaldata)\n",
    "min(cluster2ltddata)\n",
    "max(cluster2goaldata)\n",
    "max(cluster2ltddata)\n",
    "\n",
    "#Cluster 3\n",
    "cluster3dataindex=cluster3[\"data_index\"].tolist()\n",
    "cluster3goaldata=[]\n",
    "cluster3ltddata=[]\n",
    "for i in cluster3dataindex:\n",
    "    cluster3goaldata.append(x[\"goal\"].loc[i])\n",
    "for i in cluster3dataindex:\n",
    "    cluster3ltddata.append(x[\"launch_to_deadline_days\"].loc[i])\n",
    "min(cluster3goaldata)\n",
    "min(cluster3ltddata)\n",
    "max(cluster3goaldata)\n",
    "max(cluster3ltddata)"
   ]
  }
 ],
 "metadata": {
  "kernelspec": {
   "display_name": "Python 3",
   "language": "python",
   "name": "python3"
  },
  "language_info": {
   "codemirror_mode": {
    "name": "ipython",
    "version": 3
   },
   "file_extension": ".py",
   "mimetype": "text/x-python",
   "name": "python",
   "nbconvert_exporter": "python",
   "pygments_lexer": "ipython3",
   "version": "3.8.5"
  }
 },
 "nbformat": 4,
 "nbformat_minor": 4
}
